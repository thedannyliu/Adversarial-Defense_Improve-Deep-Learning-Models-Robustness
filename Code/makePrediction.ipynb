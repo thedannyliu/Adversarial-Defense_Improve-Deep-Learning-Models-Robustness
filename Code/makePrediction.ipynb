{
 "cells": [
  {
   "cell_type": "code",
   "execution_count": 1,
   "metadata": {
    "scrolled": true
   },
   "outputs": [
    {
     "name": "stderr",
     "output_type": "stream",
     "text": [
      "\r",
      "  0%|          | 0/195 [00:00<?, ?it/s]"
     ]
    },
    {
     "name": "stdout",
     "output_type": "stream",
     "text": [
      "The # of images is: 50000 on val mode!\n",
      "Start validating\n"
     ]
    },
    {
     "name": "stderr",
     "output_type": "stream",
     "text": [
      "100%|██████████| 195/195 [07:30<00:00,  2.31s/it]\n"
     ]
    },
    {
     "ename": "NameError",
     "evalue": "name 'step' is not defined",
     "output_type": "error",
     "traceback": [
      "\u001b[0;31m---------------------------------------------------------------------------\u001b[0m",
      "\u001b[0;31mNameError\u001b[0m                                 Traceback (most recent call last)",
      "\u001b[0;32m<ipython-input-1-01616ffe65cc>\u001b[0m in \u001b[0;36m<module>\u001b[0;34m\u001b[0m\n\u001b[1;32m     68\u001b[0m \u001b[0mnow\u001b[0m \u001b[0;34m=\u001b[0m \u001b[0mdatetime\u001b[0m\u001b[0;34m.\u001b[0m\u001b[0mnow\u001b[0m\u001b[0;34m(\u001b[0m\u001b[0;34m)\u001b[0m\u001b[0;34m\u001b[0m\u001b[0;34m\u001b[0m\u001b[0m\n\u001b[1;32m     69\u001b[0m \u001b[0md1\u001b[0m \u001b[0;34m=\u001b[0m\u001b[0mnow\u001b[0m\u001b[0;34m.\u001b[0m\u001b[0mstrftime\u001b[0m\u001b[0;34m(\u001b[0m\u001b[0;34m\"%d/%m/%Y %H:%M:%S\"\u001b[0m\u001b[0;34m)\u001b[0m\u001b[0;34m\u001b[0m\u001b[0;34m\u001b[0m\u001b[0m\n\u001b[0;32m---> 70\u001b[0;31m \u001b[0mprint\u001b[0m\u001b[0;34m(\u001b[0m\u001b[0;34m\"[%s][step/epoch][%5d/%3d] Validation Accuracy=%.5f\"\u001b[0m \u001b[0;34m%\u001b[0m \u001b[0;34m(\u001b[0m\u001b[0md1\u001b[0m\u001b[0;34m,\u001b[0m \u001b[0mstep\u001b[0m\u001b[0;34m,\u001b[0m \u001b[0mep\u001b[0m\u001b[0;34m,\u001b[0m \u001b[0mval_acc\u001b[0m\u001b[0;34m)\u001b[0m\u001b[0;34m)\u001b[0m\u001b[0;34m\u001b[0m\u001b[0;34m\u001b[0m\u001b[0m\n\u001b[0m",
      "\u001b[0;31mNameError\u001b[0m: name 'step' is not defined"
     ]
    }
   ],
   "source": [
    "import cv2\n",
    "import os, glob\n",
    "from torchvision import models\n",
    "import torch.nn as nn\n",
    "import torch\n",
    "import torch.optim as optim\n",
    "import numpy as np\n",
    "from dataset import *\n",
    "import pandas as pd\n",
    "from PIL import Image\n",
    "from torchvision import transforms\n",
    "from torchvision import models as tm\n",
    "from efficientnet_pytorch import EfficientNet\n",
    "from model import *\n",
    "from datetime import datetime\n",
    "from torch.nn.parallel import DataParallel\n",
    "import tqdm\n",
    "\n",
    "##=============Config===================\n",
    "os.environ[\"CUDA_VISIBLE_DEVICES\"] = \"1\"\n",
    "device='cuda'\n",
    "now = datetime.now()\n",
    "# dd/mm/YY\n",
    "val_batch_size=256\n",
    "root = \"/ssd3/ilsvrc2012/\"\n",
    "val_fn = root+'val.txt'\n",
    "\n",
    "\n",
    "stmodel= tm.resnet101(pretrained=True).to(device)\n",
    "imTrs = imageTrans(device).to(device)\n",
    "stmodel = DataParallel(stmodel)\n",
    "imTrs = DataParallel(imTrs)\n",
    "\n",
    "stmodel.load_state_dict(torch.load('checkpoint/final_net.pt'))\n",
    "imTrs.load_state_dict(torch.load('checkpoint/final_imt.pt'))\n",
    "\n",
    "val_dataset = dataset_DFD(0, val_fn, root=root+'val/', mode='val')\n",
    "val_loader = torch.utils.data.DataLoader(val_dataset, batch_size=val_batch_size, drop_last=True, \n",
    "                                         num_workers=16, sampler=None, shuffle=False)\n",
    "\n",
    "stmodel.eval()\n",
    "val_acc = 0\n",
    "print('Start validating')\n",
    "opt_inner = torch.optim.AdamW(imTrs.parameters(), lr=3e-5)\n",
    "mse=torch.nn.MSELoss().type(torch.cuda.FloatTensor)\n",
    "\n",
    "val_acc = []\n",
    "for X,y in tqdm.tqdm(val_loader, total=len(val_loader)):\n",
    "    X = X.to(device)\n",
    "    y = y.to(device)\n",
    "    ## Inner optimization====\n",
    "    imTrs.train()\n",
    "    for inner_ep in range(4):\n",
    "        opt_inner.zero_grad()\n",
    "        X_in = imTrs(X).to(device)\n",
    "        loss_inner = mse(X_in, X)\n",
    "        loss_inner.backward()\n",
    "        opt_inner.step()\n",
    "    imTrs.eval()\n",
    "    ##======================\n",
    "    with torch.no_grad():\n",
    "        pred = stmodel(imTrs(X))\n",
    "        _, pred = torch.max(pred, 1)\n",
    "        val_acc.append( (pred == y).sum().item()/y.size(0))\n",
    "\n",
    "val_acc = np.mean(np.array(val_acc))\n",
    "\n",
    "now = datetime.now()\n",
    "d1 =now.strftime(\"%d/%m/%Y %H:%M:%S\")\n",
    "print(\"[%s] Validation Accuracy=%.5f\" % (d1, val_acc))\n"
   ]
  },
  {
   "cell_type": "code",
   "execution_count": 2,
   "metadata": {},
   "outputs": [
    {
     "name": "stdout",
     "output_type": "stream",
     "text": [
      "[02/01/2021 12:09:49] Validation Accuracy=0.74283\n"
     ]
    }
   ],
   "source": [
    "\n"
   ]
  }
 ],
 "metadata": {
  "kernelspec": {
   "display_name": "Python 3",
   "language": "python",
   "name": "python3"
  },
  "language_info": {
   "codemirror_mode": {
    "name": "ipython",
    "version": 3
   },
   "file_extension": ".py",
   "mimetype": "text/x-python",
   "name": "python",
   "nbconvert_exporter": "python",
   "pygments_lexer": "ipython3",
   "version": "3.6.10"
  }
 },
 "nbformat": 4,
 "nbformat_minor": 4
}
