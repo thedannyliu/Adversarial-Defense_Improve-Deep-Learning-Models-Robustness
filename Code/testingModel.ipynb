{
 "cells": [
  {
   "cell_type": "code",
   "execution_count": 1,
   "metadata": {},
   "outputs": [
    {
     "name": "stdout",
     "output_type": "stream",
     "text": [
      "torch.Size([1, 32, 28, 28])\n",
      "torch.Size([3, 224, 224])\n"
     ]
    }
   ],
   "source": [
    "from model import *\n",
    "import torch\n",
    "\n",
    "model = imageTrans('cuda').cuda()\n",
    "x = torch.zeros((1,3,224,224)).cuda()\n",
    "y = model(x)\n",
    "print(y[0].shape)"
   ]
  }
 ],
 "metadata": {
  "kernelspec": {
   "display_name": "Python 3",
   "language": "python",
   "name": "python3"
  },
  "language_info": {
   "codemirror_mode": {
    "name": "ipython",
    "version": 3
   },
   "file_extension": ".py",
   "mimetype": "text/x-python",
   "name": "python",
   "nbconvert_exporter": "python",
   "pygments_lexer": "ipython3",
   "version": "3.8.10"
  }
 },
 "nbformat": 4,
 "nbformat_minor": 4
}
