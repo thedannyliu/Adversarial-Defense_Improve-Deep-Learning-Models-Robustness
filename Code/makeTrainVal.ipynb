{
 "cells": [
  {
   "cell_type": "code",
   "execution_count": 2,
   "metadata": {},
   "outputs": [],
   "source": [
    "import glob, numpy as np\n",
    "import random as rn\n",
    "X1 = glob.glob('Task1/AMD/*.jpg')\n",
    "X2 = glob.glob('Task1/Non-AMD/*.jpg')\n",
    "Y = []\n",
    "for _ in X1:\n",
    "    Y.append(1)\n",
    "for _ in X2:\n",
    "    Y.append(0)\n",
    "    \n",
    "X = list(np.concatenate(np.array([X1, X2]),0))\n",
    "len1 = len(X)\n",
    "idx = np.array(range(len1))\n",
    "rn.shuffle(idx)\n",
    "\n",
    "with open('train.txt', 'w') as fp:\n",
    "    for i in range(len1-10):\n",
    "        fp.write('%s %d\\n' % (X[idx[i]], Y[idx[i]]))\n",
    "        \n",
    "with open('val.txt', 'w') as fp:\n",
    "    for i in range(len1-10, len1):\n",
    "        fp.write('%s %d\\n' % (X[idx[i]], Y[idx[i]]))"
   ]
  },
  {
   "cell_type": "code",
   "execution_count": null,
   "metadata": {},
   "outputs": [],
   "source": []
  }
 ],
 "metadata": {
  "kernelspec": {
   "display_name": "Python 3",
   "language": "python",
   "name": "python3"
  },
  "language_info": {
   "codemirror_mode": {
    "name": "ipython",
    "version": 3
   },
   "file_extension": ".py",
   "mimetype": "text/x-python",
   "name": "python",
   "nbconvert_exporter": "python",
   "pygments_lexer": "ipython3",
   "version": "3.6.9"
  }
 },
 "nbformat": 4,
 "nbformat_minor": 4
}
