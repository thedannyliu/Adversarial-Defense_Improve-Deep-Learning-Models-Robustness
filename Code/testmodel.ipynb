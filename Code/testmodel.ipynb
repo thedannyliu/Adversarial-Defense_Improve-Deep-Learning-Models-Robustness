{
 "cells": [
  {
   "cell_type": "code",
   "execution_count": 1,
   "metadata": {},
   "outputs": [
    {
     "name": "stdout",
     "output_type": "stream",
     "text": [
      "torch.Size([1, 48, 1568])\n"
     ]
    }
   ],
   "source": [
    "import torch, os\n",
    "import torch.nn as nn\n",
    "import torch.nn.functional as F\n",
    "\n",
    "from model import *\n",
    "\n",
    "\n",
    "model = SAFE_Transformer().to('cpu')\n",
    "# show input sha\n",
    "\n",
    "x=torch.randn((1,3,224,224)).to('cpu')\n",
    "\n",
    "y=model(x)\n"
   ]
  },
  {
   "cell_type": "code",
   "execution_count": 2,
   "metadata": {},
   "outputs": [
    {
     "ename": "ModuleNotFoundError",
     "evalue": "No module named 'thop'",
     "output_type": "error",
     "traceback": [
      "\u001b[0;31m---------------------------------------------------------------------------\u001b[0m",
      "\u001b[0;31mModuleNotFoundError\u001b[0m                       Traceback (most recent call last)",
      "\u001b[0;32m<ipython-input-2-9f3afa242d42>\u001b[0m in \u001b[0;36m<module>\u001b[0;34m\u001b[0m\n\u001b[1;32m      2\u001b[0m \u001b[0;32mimport\u001b[0m \u001b[0mtorch\u001b[0m\u001b[0;34m.\u001b[0m\u001b[0mnn\u001b[0m \u001b[0;32mas\u001b[0m \u001b[0mnn\u001b[0m\u001b[0;34m\u001b[0m\u001b[0;34m\u001b[0m\u001b[0m\n\u001b[1;32m      3\u001b[0m \u001b[0;32mimport\u001b[0m \u001b[0mtorch\u001b[0m\u001b[0;34m.\u001b[0m\u001b[0mnn\u001b[0m\u001b[0;34m.\u001b[0m\u001b[0mfunctional\u001b[0m \u001b[0;32mas\u001b[0m \u001b[0mF\u001b[0m\u001b[0;34m\u001b[0m\u001b[0;34m\u001b[0m\u001b[0m\n\u001b[0;32m----> 4\u001b[0;31m \u001b[0;32mfrom\u001b[0m \u001b[0mthop\u001b[0m \u001b[0;32mimport\u001b[0m \u001b[0mprofile\u001b[0m\u001b[0;34m\u001b[0m\u001b[0;34m\u001b[0m\u001b[0m\n\u001b[0m\u001b[1;32m      5\u001b[0m \u001b[0;34m\u001b[0m\u001b[0m\n\u001b[1;32m      6\u001b[0m \u001b[0;32mfrom\u001b[0m \u001b[0mpytorch_model_summary\u001b[0m \u001b[0;32mimport\u001b[0m \u001b[0msummary\u001b[0m\u001b[0;34m\u001b[0m\u001b[0;34m\u001b[0m\u001b[0m\n",
      "\u001b[0;31mModuleNotFoundError\u001b[0m: No module named 'thop'"
     ]
    }
   ],
   "source": [
    "import torch, os\n",
    "import torch.nn as nn\n",
    "import torch.nn.functional as F\n",
    "from thop import profile\n",
    "\n",
    "from pytorch_model_summary import summary\n",
    "from torchviz import make_dot\n",
    "from model import *\n",
    "\n",
    "\n",
    "model = SAFE_Transformer().to('cpu')\n",
    "# show input shape\n",
    "x=torch.randn((1,3,224,224)).to('cpu')\n",
    "y=model(x)\n",
    "macs, params = profile(model, inputs=(x, ))\n",
    "print('FLOPS (G):', macs /1024.0/1024/1024, \"#Paras:\", params)\n",
    "print(summary(model, torch.zeros((1, 3, 224, 224)), show_input=True))\n",
    "\n",
    "# y = model(input)\n",
    "# make_dot(y[0].mean(), params=dict(model.named_parameters()))\n",
    "\n",
    "\n",
    "# # show output shape\n",
    "# print(summary(Net(), torch.zeros((1, 1, 28, 28)), show_input=False))\n",
    "\n",
    "# # show output shape and hierarchical view of net\n",
    "# print(summary(Net(), torch.zeros((1, 1, 28, 28)), show_input=False, show_hierarchical=True))"
   ]
  },
  {
   "cell_type": "code",
   "execution_count": null,
   "metadata": {},
   "outputs": [],
   "source": [
    "import torch, os\n",
    "import torch.nn as nn\n",
    "import torch.nn.functional as F\n",
    "from thop import profile\n",
    "\n",
    "from pytorch_model_summary import summary\n",
    "from torchviz import make_dot\n",
    "from model import *\n",
    "from torchvision import models\n",
    "\n",
    "model = models.resnet101().to('cpu')\n",
    "# show input shape\n",
    "x=torch.randn((1,3,224,224)).to('cpu')\n",
    "y=model(x)\n",
    "macs, params = profile(model, inputs=(x, ))\n",
    "print('FLOPS (G):', macs /1024.0/1024/1024, \"#Paras:\", params)\n",
    "print(summary(model, torch.zeros((1, 3, 224, 224)), show_input=True))\n",
    "\n",
    "# y = model(input)\n",
    "# make_dot(y[0].mean(), params=dict(model.named_parameters()))\n",
    "\n",
    "\n",
    "# # show output shape\n",
    "# print(summary(Net(), torch.zeros((1, 1, 28, 28)), show_input=False))\n",
    "\n",
    "# # show output shape and hierarchical view of net\n",
    "# print(summary(Net(), torch.zeros((1, 1, 28, 28)), show_input=False, show_hierarchical=True))"
   ]
  }
 ],
 "metadata": {
  "kernelspec": {
   "display_name": "Python 3",
   "language": "python",
   "name": "python3"
  },
  "language_info": {
   "codemirror_mode": {
    "name": "ipython",
    "version": 3
   },
   "file_extension": ".py",
   "mimetype": "text/x-python",
   "name": "python",
   "nbconvert_exporter": "python",
   "pygments_lexer": "ipython3",
   "version": "3.8.10"
  }
 },
 "nbformat": 4,
 "nbformat_minor": 5
}
